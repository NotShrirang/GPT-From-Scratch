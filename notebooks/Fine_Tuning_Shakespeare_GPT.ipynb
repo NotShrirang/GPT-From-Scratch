{
  "cells": [
    {
      "cell_type": "code",
      "execution_count": 29,
      "metadata": {
        "colab": {
          "base_uri": "https://localhost:8080/"
        },
        "id": "xEWKalwnBR03",
        "outputId": "b37aa836-6568-4275-daa1-bc3c06b20fd0"
      },
      "outputs": [
        {
          "name": "stdout",
          "output_type": "stream",
          "text": [
            "Mounted at /content/drive\n"
          ]
        }
      ],
      "source": [
        "from google.colab import drive\n",
        "drive.mount('/content/drive')"
      ]
    },
    {
      "cell_type": "code",
      "execution_count": 2,
      "metadata": {
        "colab": {
          "base_uri": "https://localhost:8080/"
        },
        "id": "MPFUnLv1r9h4",
        "outputId": "7dc1d374-d5e2-4edd-cf90-7836adc1f070"
      },
      "outputs": [
        {
          "name": "stdout",
          "output_type": "stream",
          "text": [
            "Cloning into 'GPT-From-Scratch'...\n",
            "remote: Enumerating objects: 214, done.\u001b[K\n",
            "remote: Counting objects: 100% (214/214), done.\u001b[K\n",
            "remote: Compressing objects: 100% (146/146), done.\u001b[K\n",
            "remote: Total 214 (delta 102), reused 149 (delta 54), pack-reused 0\u001b[K\n",
            "Receiving objects: 100% (214/214), 7.11 MiB | 4.51 MiB/s, done.\n",
            "Resolving deltas: 100% (102/102), done.\n"
          ]
        }
      ],
      "source": [
        "!git clone https://NotShrirang:<GIT_PAT>@github.com/NotShrirang/GPT-From-Scratch.git"
      ]
    },
    {
      "cell_type": "code",
      "execution_count": 7,
      "metadata": {
        "colab": {
          "base_uri": "https://localhost:8080/"
        },
        "id": "diPd1aG_ukdR",
        "outputId": "eda779ed-5131-45d3-f8f9-ce7c0edc0d10"
      },
      "outputs": [
        {
          "name": "stdout",
          "output_type": "stream",
          "text": [
            "/content/GPT-From-Scratch\n"
          ]
        }
      ],
      "source": [
        "%cd \"/content/GPT-From-Scratch\""
      ]
    },
    {
      "cell_type": "code",
      "execution_count": 5,
      "metadata": {
        "colab": {
          "base_uri": "https://localhost:8080/"
        },
        "id": "qq1er_CAxBi0",
        "outputId": "764fd9ba-f1c8-4def-d371-f650d418655d"
      },
      "outputs": [
        {
          "name": "stdout",
          "output_type": "stream",
          "text": [
            "Collecting altair==5.2.0 (from -r /content/GPT-From-Scratch/requirements.txt (line 1))\n",
            "  Downloading altair-5.2.0-py3-none-any.whl (996 kB)\n",
            "\u001b[?25l     \u001b[90m━━━━━━━━━━━━━━━━━━━━━━━━━━━━━━━━━━━━━━━━\u001b[0m \u001b[32m0.0/996.9 kB\u001b[0m \u001b[31m?\u001b[0m eta \u001b[36m-:--:--\u001b[0m\r\u001b[2K     \u001b[91m━━━━━━━━━━━━━━━━━━━━━━━━━━\u001b[0m\u001b[90m╺\u001b[0m\u001b[90m━━━━━━━━━━━━━\u001b[0m \u001b[32m655.4/996.9 kB\u001b[0m \u001b[31m17.6 MB/s\u001b[0m eta \u001b[36m0:00:01\u001b[0m\r\u001b[2K     \u001b[90m━━━━━━━━━━━━━━━━━━━━━━━━━━━━━━━━━━━━━━━━\u001b[0m \u001b[32m996.9/996.9 kB\u001b[0m \u001b[31m19.3 MB/s\u001b[0m eta \u001b[36m0:00:00\u001b[0m\n",
            "\u001b[?25hRequirement already satisfied: annotated-types==0.6.0 in /usr/local/lib/python3.10/dist-packages (from -r /content/GPT-From-Scratch/requirements.txt (line 2)) (0.6.0)\n",
            "Collecting anyio==4.3.0 (from -r /content/GPT-From-Scratch/requirements.txt (line 3))\n",
            "  Downloading anyio-4.3.0-py3-none-any.whl (85 kB)\n",
            "\u001b[?25l     \u001b[90m━━━━━━━━━━━━━━━━━━━━━━━━━━━━━━━━━━━━━━━━\u001b[0m \u001b[32m0.0/85.6 kB\u001b[0m \u001b[31m?\u001b[0m eta \u001b[36m-:--:--\u001b[0m\r\u001b[2K     \u001b[90m━━━━━━━━━━━━━━━━━━━━━━━━━━━━━━━━━━━━━━━━\u001b[0m \u001b[32m85.6/85.6 kB\u001b[0m \u001b[31m13.5 MB/s\u001b[0m eta \u001b[36m0:00:00\u001b[0m\n",
            "\u001b[?25hCollecting asttokens==2.4.1 (from -r /content/GPT-From-Scratch/requirements.txt (line 4))\n",
            "  Downloading asttokens-2.4.1-py2.py3-none-any.whl (27 kB)\n",
            "Requirement already satisfied: attrs==23.2.0 in /usr/local/lib/python3.10/dist-packages (from -r /content/GPT-From-Scratch/requirements.txt (line 5)) (23.2.0)\n",
            "Collecting blinker==1.7.0 (from -r /content/GPT-From-Scratch/requirements.txt (line 6))\n",
            "  Downloading blinker-1.7.0-py3-none-any.whl (13 kB)\n",
            "Requirement already satisfied: cachetools==5.3.3 in /usr/local/lib/python3.10/dist-packages (from -r /content/GPT-From-Scratch/requirements.txt (line 7)) (5.3.3)\n",
            "Requirement already satisfied: certifi==2024.2.2 in /usr/local/lib/python3.10/dist-packages (from -r /content/GPT-From-Scratch/requirements.txt (line 8)) (2024.2.2)\n",
            "Requirement already satisfied: charset-normalizer==3.3.2 in /usr/local/lib/python3.10/dist-packages (from -r /content/GPT-From-Scratch/requirements.txt (line 9)) (3.3.2)\n",
            "Requirement already satisfied: click==8.1.7 in /usr/local/lib/python3.10/dist-packages (from -r /content/GPT-From-Scratch/requirements.txt (line 10)) (8.1.7)\n",
            "Collecting colorama==0.4.6 (from -r /content/GPT-From-Scratch/requirements.txt (line 11))\n",
            "  Downloading colorama-0.4.6-py2.py3-none-any.whl (25 kB)\n",
            "Collecting comm==0.2.2 (from -r /content/GPT-From-Scratch/requirements.txt (line 12))\n",
            "  Downloading comm-0.2.2-py3-none-any.whl (7.2 kB)\n",
            "Collecting debugpy==1.8.1 (from -r /content/GPT-From-Scratch/requirements.txt (line 13))\n",
            "  Downloading debugpy-1.8.1-cp310-cp310-manylinux_2_17_x86_64.manylinux2014_x86_64.whl (3.0 MB)\n",
            "\u001b[2K     \u001b[90m━━━━━━━━━━━━━━━━━━━━━━━━━━━━━━━━━━━━━━━━\u001b[0m \u001b[32m3.0/3.0 MB\u001b[0m \u001b[31m85.2 MB/s\u001b[0m eta \u001b[36m0:00:00\u001b[0m\n",
            "\u001b[?25hCollecting decorator==5.1.1 (from -r /content/GPT-From-Scratch/requirements.txt (line 14))\n",
            "  Downloading decorator-5.1.1-py3-none-any.whl (9.1 kB)\n",
            "Collecting dnspython==2.6.1 (from -r /content/GPT-From-Scratch/requirements.txt (line 15))\n",
            "  Downloading dnspython-2.6.1-py3-none-any.whl (307 kB)\n",
            "\u001b[2K     \u001b[90m━━━━━━━━━━━━━━━━━━━━━━━━━━━━━━━━━━━━━━━━\u001b[0m \u001b[32m307.7/307.7 kB\u001b[0m \u001b[31m39.4 MB/s\u001b[0m eta \u001b[36m0:00:00\u001b[0m\n",
            "\u001b[?25hCollecting email_validator==2.1.1 (from -r /content/GPT-From-Scratch/requirements.txt (line 16))\n",
            "  Downloading email_validator-2.1.1-py3-none-any.whl (30 kB)\n",
            "Collecting executing==2.0.1 (from -r /content/GPT-From-Scratch/requirements.txt (line 17))\n",
            "  Downloading executing-2.0.1-py2.py3-none-any.whl (24 kB)\n",
            "Collecting fastapi==0.110.3 (from -r /content/GPT-From-Scratch/requirements.txt (line 18))\n",
            "  Downloading fastapi-0.110.3-py3-none-any.whl (91 kB)\n",
            "\u001b[2K     \u001b[90m━━━━━━━━━━━━━━━━━━━━━━━━━━━━━━━━━━━━━━━━\u001b[0m \u001b[32m91.8/91.8 kB\u001b[0m \u001b[31m13.4 MB/s\u001b[0m eta \u001b[36m0:00:00\u001b[0m\n",
            "\u001b[?25hCollecting filelock==3.13.1 (from -r /content/GPT-From-Scratch/requirements.txt (line 19))\n",
            "  Downloading filelock-3.13.1-py3-none-any.whl (11 kB)\n",
            "Collecting fsspec==2024.2.0 (from -r /content/GPT-From-Scratch/requirements.txt (line 20))\n",
            "  Downloading fsspec-2024.2.0-py3-none-any.whl (170 kB)\n",
            "\u001b[2K     \u001b[90m━━━━━━━━━━━━━━━━━━━━━━━━━━━━━━━━━━━━━━━━\u001b[0m \u001b[32m170.9/170.9 kB\u001b[0m \u001b[31m25.8 MB/s\u001b[0m eta \u001b[36m0:00:00\u001b[0m\n",
            "\u001b[?25hCollecting gitdb==4.0.11 (from -r /content/GPT-From-Scratch/requirements.txt (line 21))\n",
            "  Downloading gitdb-4.0.11-py3-none-any.whl (62 kB)\n",
            "\u001b[2K     \u001b[90m━━━━━━━━━━━━━━━━━━━━━━━━━━━━━━━━━━━━━━━━\u001b[0m \u001b[32m62.7/62.7 kB\u001b[0m \u001b[31m8.3 MB/s\u001b[0m eta \u001b[36m0:00:00\u001b[0m\n",
            "\u001b[?25hCollecting GitPython==3.1.42 (from -r /content/GPT-From-Scratch/requirements.txt (line 22))\n",
            "  Downloading GitPython-3.1.42-py3-none-any.whl (195 kB)\n",
            "\u001b[2K     \u001b[90m━━━━━━━━━━━━━━━━━━━━━━━━━━━━━━━━━━━━━━━━\u001b[0m \u001b[32m195.4/195.4 kB\u001b[0m \u001b[31m29.5 MB/s\u001b[0m eta \u001b[36m0:00:00\u001b[0m\n",
            "\u001b[?25hCollecting h11==0.14.0 (from -r /content/GPT-From-Scratch/requirements.txt (line 23))\n",
            "  Downloading h11-0.14.0-py3-none-any.whl (58 kB)\n",
            "\u001b[2K     \u001b[90m━━━━━━━━━━━━━━━━━━━━━━━━━━━━━━━━━━━━━━━━\u001b[0m \u001b[32m58.3/58.3 kB\u001b[0m \u001b[31m10.1 MB/s\u001b[0m eta \u001b[36m0:00:00\u001b[0m\n",
            "\u001b[?25hCollecting httpcore==1.0.5 (from -r /content/GPT-From-Scratch/requirements.txt (line 24))\n",
            "  Downloading httpcore-1.0.5-py3-none-any.whl (77 kB)\n",
            "\u001b[2K     \u001b[90m━━━━━━━━━━━━━━━━━━━━━━━━━━━━━━━━━━━━━━━━\u001b[0m \u001b[32m77.9/77.9 kB\u001b[0m \u001b[31m13.0 MB/s\u001b[0m eta \u001b[36m0:00:00\u001b[0m\n",
            "\u001b[?25hCollecting httptools==0.6.1 (from -r /content/GPT-From-Scratch/requirements.txt (line 25))\n",
            "  Downloading httptools-0.6.1-cp310-cp310-manylinux_2_5_x86_64.manylinux1_x86_64.manylinux_2_17_x86_64.manylinux2014_x86_64.whl (341 kB)\n",
            "\u001b[2K     \u001b[90m━━━━━━━━━━━━━━━━━━━━━━━━━━━━━━━━━━━━━━━━\u001b[0m \u001b[32m341.4/341.4 kB\u001b[0m \u001b[31m41.9 MB/s\u001b[0m eta \u001b[36m0:00:00\u001b[0m\n",
            "\u001b[?25hCollecting httpx==0.27.0 (from -r /content/GPT-From-Scratch/requirements.txt (line 26))\n",
            "  Downloading httpx-0.27.0-py3-none-any.whl (75 kB)\n",
            "\u001b[2K     \u001b[90m━━━━━━━━━━━━━━━━━━━━━━━━━━━━━━━━━━━━━━━━\u001b[0m \u001b[32m75.6/75.6 kB\u001b[0m \u001b[31m11.6 MB/s\u001b[0m eta \u001b[36m0:00:00\u001b[0m\n",
            "\u001b[?25hCollecting idna==3.6 (from -r /content/GPT-From-Scratch/requirements.txt (line 27))\n",
            "  Downloading idna-3.6-py3-none-any.whl (61 kB)\n",
            "\u001b[2K     \u001b[90m━━━━━━━━━━━━━━━━━━━━━━━━━━━━━━━━━━━━━━━━\u001b[0m \u001b[32m61.6/61.6 kB\u001b[0m \u001b[31m10.4 MB/s\u001b[0m eta \u001b[36m0:00:00\u001b[0m\n",
            "\u001b[?25hCollecting ipykernel==6.29.4 (from -r /content/GPT-From-Scratch/requirements.txt (line 28))\n",
            "  Downloading ipykernel-6.29.4-py3-none-any.whl (117 kB)\n",
            "\u001b[2K     \u001b[90m━━━━━━━━━━━━━━━━━━━━━━━━━━━━━━━━━━━━━━━━\u001b[0m \u001b[32m117.1/117.1 kB\u001b[0m \u001b[31m19.4 MB/s\u001b[0m eta \u001b[36m0:00:00\u001b[0m\n",
            "\u001b[?25hCollecting ipython==8.24.0 (from -r /content/GPT-From-Scratch/requirements.txt (line 29))\n",
            "  Downloading ipython-8.24.0-py3-none-any.whl (816 kB)\n",
            "\u001b[2K     \u001b[90m━━━━━━━━━━━━━━━━━━━━━━━━━━━━━━━━━━━━━━━━\u001b[0m \u001b[32m816.5/816.5 kB\u001b[0m \u001b[31m67.5 MB/s\u001b[0m eta \u001b[36m0:00:00\u001b[0m\n",
            "\u001b[?25hRequirement already satisfied: itsdangerous==2.2.0 in /usr/local/lib/python3.10/dist-packages (from -r /content/GPT-From-Scratch/requirements.txt (line 30)) (2.2.0)\n",
            "Collecting jedi==0.19.1 (from -r /content/GPT-From-Scratch/requirements.txt (line 31))\n",
            "  Downloading jedi-0.19.1-py2.py3-none-any.whl (1.6 MB)\n",
            "\u001b[2K     \u001b[90m━━━━━━━━━━━━━━━━━━━━━━━━━━━━━━━━━━━━━━━━\u001b[0m \u001b[32m1.6/1.6 MB\u001b[0m \u001b[31m75.7 MB/s\u001b[0m eta \u001b[36m0:00:00\u001b[0m\n",
            "\u001b[?25hCollecting Jinja2==3.1.3 (from -r /content/GPT-From-Scratch/requirements.txt (line 32))\n",
            "  Downloading Jinja2-3.1.3-py3-none-any.whl (133 kB)\n",
            "\u001b[2K     \u001b[90m━━━━━━━━━━━━━━━━━━━━━━━━━━━━━━━━━━━━━━━━\u001b[0m \u001b[32m133.2/133.2 kB\u001b[0m \u001b[31m22.1 MB/s\u001b[0m eta \u001b[36m0:00:00\u001b[0m\n",
            "\u001b[?25hCollecting joblib==1.4.0 (from -r /content/GPT-From-Scratch/requirements.txt (line 33))\n",
            "  Downloading joblib-1.4.0-py3-none-any.whl (301 kB)\n",
            "\u001b[2K     \u001b[90m━━━━━━━━━━━━━━━━━━━━━━━━━━━━━━━━━━━━━━━━\u001b[0m \u001b[32m301.2/301.2 kB\u001b[0m \u001b[31m40.1 MB/s\u001b[0m eta \u001b[36m0:00:00\u001b[0m\n",
            "\u001b[?25hCollecting jsonschema==4.21.1 (from -r /content/GPT-From-Scratch/requirements.txt (line 34))\n",
            "  Downloading jsonschema-4.21.1-py3-none-any.whl (85 kB)\n",
            "\u001b[2K     \u001b[90m━━━━━━━━━━━━━━━━━━━━━━━━━━━━━━━━━━━━━━━━\u001b[0m \u001b[32m85.5/85.5 kB\u001b[0m \u001b[31m13.7 MB/s\u001b[0m eta \u001b[36m0:00:00\u001b[0m\n",
            "\u001b[?25hRequirement already satisfied: jsonschema-specifications==2023.12.1 in /usr/local/lib/python3.10/dist-packages (from -r /content/GPT-From-Scratch/requirements.txt (line 35)) (2023.12.1)\n",
            "Collecting jupyter_client==8.6.1 (from -r /content/GPT-From-Scratch/requirements.txt (line 36))\n",
            "  Downloading jupyter_client-8.6.1-py3-none-any.whl (105 kB)\n",
            "\u001b[2K     \u001b[90m━━━━━━━━━━━━━━━━━━━━━━━━━━━━━━━━━━━━━━━━\u001b[0m \u001b[32m105.9/105.9 kB\u001b[0m \u001b[31m16.9 MB/s\u001b[0m eta \u001b[36m0:00:00\u001b[0m\n",
            "\u001b[?25hRequirement already satisfied: jupyter_core==5.7.2 in /usr/local/lib/python3.10/dist-packages (from -r /content/GPT-From-Scratch/requirements.txt (line 37)) (5.7.2)\n",
            "Requirement already satisfied: markdown-it-py==3.0.0 in /usr/local/lib/python3.10/dist-packages (from -r /content/GPT-From-Scratch/requirements.txt (line 38)) (3.0.0)\n",
            "Requirement already satisfied: MarkupSafe==2.1.5 in /usr/local/lib/python3.10/dist-packages (from -r /content/GPT-From-Scratch/requirements.txt (line 39)) (2.1.5)\n",
            "Requirement already satisfied: matplotlib-inline==0.1.7 in /usr/local/lib/python3.10/dist-packages (from -r /content/GPT-From-Scratch/requirements.txt (line 40)) (0.1.7)\n",
            "Requirement already satisfied: mdurl==0.1.2 in /usr/local/lib/python3.10/dist-packages (from -r /content/GPT-From-Scratch/requirements.txt (line 41)) (0.1.2)\n",
            "Requirement already satisfied: mpmath==1.3.0 in /usr/local/lib/python3.10/dist-packages (from -r /content/GPT-From-Scratch/requirements.txt (line 42)) (1.3.0)\n",
            "Requirement already satisfied: nest-asyncio==1.6.0 in /usr/local/lib/python3.10/dist-packages (from -r /content/GPT-From-Scratch/requirements.txt (line 43)) (1.6.0)\n",
            "Collecting networkx==3.2.1 (from -r /content/GPT-From-Scratch/requirements.txt (line 44))\n",
            "  Downloading networkx-3.2.1-py3-none-any.whl (1.6 MB)\n",
            "\u001b[2K     \u001b[90m━━━━━━━━━━━━━━━━━━━━━━━━━━━━━━━━━━━━━━━━\u001b[0m \u001b[32m1.6/1.6 MB\u001b[0m \u001b[31m79.6 MB/s\u001b[0m eta \u001b[36m0:00:00\u001b[0m\n",
            "\u001b[?25hCollecting numpy==1.26.4 (from -r /content/GPT-From-Scratch/requirements.txt (line 45))\n",
            "  Downloading numpy-1.26.4-cp310-cp310-manylinux_2_17_x86_64.manylinux2014_x86_64.whl (18.2 MB)\n",
            "\u001b[2K     \u001b[90m━━━━━━━━━━━━━━━━━━━━━━━━━━━━━━━━━━━━━━━━\u001b[0m \u001b[32m18.2/18.2 MB\u001b[0m \u001b[31m84.0 MB/s\u001b[0m eta \u001b[36m0:00:00\u001b[0m\n",
            "\u001b[?25hCollecting orjson==3.10.2 (from -r /content/GPT-From-Scratch/requirements.txt (line 46))\n",
            "  Downloading orjson-3.10.2-cp310-cp310-manylinux_2_17_x86_64.manylinux2014_x86_64.whl (142 kB)\n",
            "\u001b[2K     \u001b[90m━━━━━━━━━━━━━━━━━━━━━━━━━━━━━━━━━━━━━━━━\u001b[0m \u001b[32m142.7/142.7 kB\u001b[0m \u001b[31m14.0 MB/s\u001b[0m eta \u001b[36m0:00:00\u001b[0m\n",
            "\u001b[?25hCollecting packaging==23.2 (from -r /content/GPT-From-Scratch/requirements.txt (line 47))\n",
            "  Downloading packaging-23.2-py3-none-any.whl (53 kB)\n",
            "\u001b[2K     \u001b[90m━━━━━━━━━━━━━━━━━━━━━━━━━━━━━━━━━━━━━━━━\u001b[0m \u001b[32m53.0/53.0 kB\u001b[0m \u001b[31m8.4 MB/s\u001b[0m eta \u001b[36m0:00:00\u001b[0m\n",
            "\u001b[?25hCollecting pandas==2.2.1 (from -r /content/GPT-From-Scratch/requirements.txt (line 48))\n",
            "  Downloading pandas-2.2.1-cp310-cp310-manylinux_2_17_x86_64.manylinux2014_x86_64.whl (13.0 MB)\n",
            "\u001b[2K     \u001b[90m━━━━━━━━━━━━━━━━━━━━━━━━━━━━━━━━━━━━━━━━\u001b[0m \u001b[32m13.0/13.0 MB\u001b[0m \u001b[31m97.5 MB/s\u001b[0m eta \u001b[36m0:00:00\u001b[0m\n",
            "\u001b[?25hRequirement already satisfied: parso==0.8.4 in /usr/local/lib/python3.10/dist-packages (from -r /content/GPT-From-Scratch/requirements.txt (line 49)) (0.8.4)\n",
            "Collecting pillow==10.2.0 (from -r /content/GPT-From-Scratch/requirements.txt (line 50))\n",
            "  Downloading pillow-10.2.0-cp310-cp310-manylinux_2_28_x86_64.whl (4.5 MB)\n",
            "\u001b[2K     \u001b[90m━━━━━━━━━━━━━━━━━━━━━━━━━━━━━━━━━━━━━━━━\u001b[0m \u001b[32m4.5/4.5 MB\u001b[0m \u001b[31m62.9 MB/s\u001b[0m eta \u001b[36m0:00:00\u001b[0m\n",
            "\u001b[?25hRequirement already satisfied: platformdirs==4.2.1 in /usr/local/lib/python3.10/dist-packages (from -r /content/GPT-From-Scratch/requirements.txt (line 51)) (4.2.1)\n",
            "Requirement already satisfied: prompt-toolkit==3.0.43 in /usr/local/lib/python3.10/dist-packages (from -r /content/GPT-From-Scratch/requirements.txt (line 52)) (3.0.43)\n",
            "Collecting protobuf==4.25.3 (from -r /content/GPT-From-Scratch/requirements.txt (line 53))\n",
            "  Downloading protobuf-4.25.3-cp37-abi3-manylinux2014_x86_64.whl (294 kB)\n",
            "\u001b[2K     \u001b[90m━━━━━━━━━━━━━━━━━━━━━━━━━━━━━━━━━━━━━━━━\u001b[0m \u001b[32m294.6/294.6 kB\u001b[0m \u001b[31m36.0 MB/s\u001b[0m eta \u001b[36m0:00:00\u001b[0m\n",
            "\u001b[?25hCollecting psutil==5.9.8 (from -r /content/GPT-From-Scratch/requirements.txt (line 54))\n",
            "  Downloading psutil-5.9.8-cp36-abi3-manylinux_2_12_x86_64.manylinux2010_x86_64.manylinux_2_17_x86_64.manylinux2014_x86_64.whl (288 kB)\n",
            "\u001b[2K     \u001b[90m━━━━━━━━━━━━━━━━━━━━━━━━━━━━━━━━━━━━━━━━\u001b[0m \u001b[32m288.2/288.2 kB\u001b[0m \u001b[31m39.8 MB/s\u001b[0m eta \u001b[36m0:00:00\u001b[0m\n",
            "\u001b[?25hCollecting pure-eval==0.2.2 (from -r /content/GPT-From-Scratch/requirements.txt (line 55))\n",
            "  Downloading pure_eval-0.2.2-py3-none-any.whl (11 kB)\n",
            "Collecting pyarrow==15.0.2 (from -r /content/GPT-From-Scratch/requirements.txt (line 56))\n",
            "  Downloading pyarrow-15.0.2-cp310-cp310-manylinux_2_28_x86_64.whl (38.3 MB)\n",
            "\u001b[2K     \u001b[90m━━━━━━━━━━━━━━━━━━━━━━━━━━━━━━━━━━━━━━━━\u001b[0m \u001b[32m38.3/38.3 MB\u001b[0m \u001b[31m11.4 MB/s\u001b[0m eta \u001b[36m0:00:00\u001b[0m\n",
            "\u001b[?25hRequirement already satisfied: pydantic==2.7.1 in /usr/local/lib/python3.10/dist-packages (from -r /content/GPT-From-Scratch/requirements.txt (line 57)) (2.7.1)\n",
            "Collecting pydantic-extra-types==2.7.0 (from -r /content/GPT-From-Scratch/requirements.txt (line 58))\n",
            "  Downloading pydantic_extra_types-2.7.0-py3-none-any.whl (25 kB)\n",
            "Collecting pydantic-settings==2.2.1 (from -r /content/GPT-From-Scratch/requirements.txt (line 59))\n",
            "  Downloading pydantic_settings-2.2.1-py3-none-any.whl (13 kB)\n",
            "Requirement already satisfied: pydantic_core==2.18.2 in /usr/local/lib/python3.10/dist-packages (from -r /content/GPT-From-Scratch/requirements.txt (line 60)) (2.18.2)\n",
            "Collecting pydeck==0.8.1b0 (from -r /content/GPT-From-Scratch/requirements.txt (line 61))\n",
            "  Downloading pydeck-0.8.1b0-py2.py3-none-any.whl (4.8 MB)\n",
            "\u001b[2K     \u001b[90m━━━━━━━━━━━━━━━━━━━━━━━━━━━━━━━━━━━━━━━━\u001b[0m \u001b[32m4.8/4.8 MB\u001b[0m \u001b[31m81.7 MB/s\u001b[0m eta \u001b[36m0:00:00\u001b[0m\n",
            "\u001b[?25hCollecting Pygments==2.17.2 (from -r /content/GPT-From-Scratch/requirements.txt (line 62))\n",
            "  Downloading pygments-2.17.2-py3-none-any.whl (1.2 MB)\n",
            "\u001b[2K     \u001b[90m━━━━━━━━━━━━━━━━━━━━━━━━━━━━━━━━━━━━━━━━\u001b[0m \u001b[32m1.2/1.2 MB\u001b[0m \u001b[31m63.9 MB/s\u001b[0m eta \u001b[36m0:00:00\u001b[0m\n",
            "\u001b[?25hCollecting python-dateutil==2.9.0.post0 (from -r /content/GPT-From-Scratch/requirements.txt (line 63))\n",
            "  Downloading python_dateutil-2.9.0.post0-py2.py3-none-any.whl (229 kB)\n",
            "\u001b[2K     \u001b[90m━━━━━━━━━━━━━━━━━━━━━━━━━━━━━━━━━━━━━━━━\u001b[0m \u001b[32m229.9/229.9 kB\u001b[0m \u001b[31m28.3 MB/s\u001b[0m eta \u001b[36m0:00:00\u001b[0m\n",
            "\u001b[?25hCollecting python-dotenv==1.0.1 (from -r /content/GPT-From-Scratch/requirements.txt (line 64))\n",
            "  Downloading python_dotenv-1.0.1-py3-none-any.whl (19 kB)\n",
            "Collecting python-multipart==0.0.9 (from -r /content/GPT-From-Scratch/requirements.txt (line 65))\n",
            "  Downloading python_multipart-0.0.9-py3-none-any.whl (22 kB)\n",
            "Collecting pytz==2024.1 (from -r /content/GPT-From-Scratch/requirements.txt (line 66))\n",
            "  Downloading pytz-2024.1-py2.py3-none-any.whl (505 kB)\n",
            "\u001b[2K     \u001b[90m━━━━━━━━━━━━━━━━━━━━━━━━━━━━━━━━━━━━━━━━\u001b[0m \u001b[32m505.5/505.5 kB\u001b[0m \u001b[31m55.8 MB/s\u001b[0m eta \u001b[36m0:00:00\u001b[0m\n",
            "\u001b[?25hRequirement already satisfied: PyYAML==6.0.1 in /usr/local/lib/python3.10/dist-packages (from -r /content/GPT-From-Scratch/requirements.txt (line 67)) (6.0.1)\n",
            "Collecting pyzmq==26.0.2 (from -r /content/GPT-From-Scratch/requirements.txt (line 68))\n",
            "  Downloading pyzmq-26.0.2-cp310-cp310-manylinux_2_28_x86_64.whl (919 kB)\n",
            "\u001b[2K     \u001b[90m━━━━━━━━━━━━━━━━━━━━━━━━━━━━━━━━━━━━━━━━\u001b[0m \u001b[32m920.0/920.0 kB\u001b[0m \u001b[31m25.7 MB/s\u001b[0m eta \u001b[36m0:00:00\u001b[0m\n",
            "\u001b[?25hCollecting referencing==0.34.0 (from -r /content/GPT-From-Scratch/requirements.txt (line 69))\n",
            "  Downloading referencing-0.34.0-py3-none-any.whl (26 kB)\n",
            "Collecting regex==2024.4.28 (from -r /content/GPT-From-Scratch/requirements.txt (line 70))\n",
            "  Downloading regex-2024.4.28-cp310-cp310-manylinux_2_17_x86_64.manylinux2014_x86_64.whl (774 kB)\n",
            "\u001b[2K     \u001b[90m━━━━━━━━━━━━━━━━━━━━━━━━━━━━━━━━━━━━━━━━\u001b[0m \u001b[32m774.1/774.1 kB\u001b[0m \u001b[31m69.6 MB/s\u001b[0m eta \u001b[36m0:00:00\u001b[0m\n",
            "\u001b[?25hRequirement already satisfied: requests==2.31.0 in /usr/local/lib/python3.10/dist-packages (from -r /content/GPT-From-Scratch/requirements.txt (line 71)) (2.31.0)\n",
            "Requirement already satisfied: rich==13.7.1 in /usr/local/lib/python3.10/dist-packages (from -r /content/GPT-From-Scratch/requirements.txt (line 72)) (13.7.1)\n",
            "Collecting rpds-py==0.18.0 (from -r /content/GPT-From-Scratch/requirements.txt (line 73))\n",
            "  Downloading rpds_py-0.18.0-cp310-cp310-manylinux_2_17_x86_64.manylinux2014_x86_64.whl (1.1 MB)\n",
            "\u001b[2K     \u001b[90m━━━━━━━━━━━━━━━━━━━━━━━━━━━━━━━━━━━━━━━━\u001b[0m \u001b[32m1.1/1.1 MB\u001b[0m \u001b[31m41.4 MB/s\u001b[0m eta \u001b[36m0:00:00\u001b[0m\n",
            "\u001b[?25hRequirement already satisfied: six==1.16.0 in /usr/local/lib/python3.10/dist-packages (from -r /content/GPT-From-Scratch/requirements.txt (line 74)) (1.16.0)\n",
            "Collecting smmap==5.0.1 (from -r /content/GPT-From-Scratch/requirements.txt (line 75))\n",
            "  Downloading smmap-5.0.1-py3-none-any.whl (24 kB)\n",
            "Requirement already satisfied: sniffio==1.3.1 in /usr/local/lib/python3.10/dist-packages (from -r /content/GPT-From-Scratch/requirements.txt (line 76)) (1.3.1)\n",
            "Collecting stack-data==0.6.3 (from -r /content/GPT-From-Scratch/requirements.txt (line 77))\n",
            "  Downloading stack_data-0.6.3-py3-none-any.whl (24 kB)\n",
            "Collecting starlette==0.37.2 (from -r /content/GPT-From-Scratch/requirements.txt (line 78))\n",
            "  Downloading starlette-0.37.2-py3-none-any.whl (71 kB)\n",
            "\u001b[2K     \u001b[90m━━━━━━━━━━━━━━━━━━━━━━━━━━━━━━━━━━━━━━━━\u001b[0m \u001b[32m71.9/71.9 kB\u001b[0m \u001b[31m12.4 MB/s\u001b[0m eta \u001b[36m0:00:00\u001b[0m\n",
            "\u001b[?25hCollecting streamlit==1.32.2 (from -r /content/GPT-From-Scratch/requirements.txt (line 79))\n",
            "  Downloading streamlit-1.32.2-py2.py3-none-any.whl (8.1 MB)\n",
            "\u001b[2K     \u001b[90m━━━━━━━━━━━━━━━━━━━━━━━━━━━━━━━━━━━━━━━━\u001b[0m \u001b[32m8.1/8.1 MB\u001b[0m \u001b[31m112.2 MB/s\u001b[0m eta \u001b[36m0:00:00\u001b[0m\n",
            "\u001b[?25hRequirement already satisfied: sympy==1.12 in /usr/local/lib/python3.10/dist-packages (from -r /content/GPT-From-Scratch/requirements.txt (line 80)) (1.12)\n",
            "Collecting tenacity==8.2.3 (from -r /content/GPT-From-Scratch/requirements.txt (line 81))\n",
            "  Downloading tenacity-8.2.3-py3-none-any.whl (24 kB)\n",
            "Requirement already satisfied: toml==0.10.2 in /usr/local/lib/python3.10/dist-packages (from -r /content/GPT-From-Scratch/requirements.txt (line 82)) (0.10.2)\n",
            "Requirement already satisfied: toolz==0.12.1 in /usr/local/lib/python3.10/dist-packages (from -r /content/GPT-From-Scratch/requirements.txt (line 83)) (0.12.1)\n",
            "Requirement already satisfied: torch==2.2.1 in /usr/local/lib/python3.10/dist-packages (from -r /content/GPT-From-Scratch/requirements.txt (line 84)) (2.2.1+cu121)\n",
            "Collecting tornado==6.4 (from -r /content/GPT-From-Scratch/requirements.txt (line 85))\n",
            "  Downloading tornado-6.4-cp38-abi3-manylinux_2_5_x86_64.manylinux1_x86_64.manylinux_2_17_x86_64.manylinux2014_x86_64.whl (435 kB)\n",
            "\u001b[2K     \u001b[90m━━━━━━━━━━━━━━━━━━━━━━━━━━━━━━━━━━━━━━━━\u001b[0m \u001b[32m435.4/435.4 kB\u001b[0m \u001b[31m50.0 MB/s\u001b[0m eta \u001b[36m0:00:00\u001b[0m\n",
            "\u001b[?25hCollecting tqdm==4.66.2 (from -r /content/GPT-From-Scratch/requirements.txt (line 86))\n",
            "  Downloading tqdm-4.66.2-py3-none-any.whl (78 kB)\n",
            "\u001b[2K     \u001b[90m━━━━━━━━━━━━━━━━━━━━━━━━━━━━━━━━━━━━━━━━\u001b[0m \u001b[32m78.3/78.3 kB\u001b[0m \u001b[31m13.1 MB/s\u001b[0m eta \u001b[36m0:00:00\u001b[0m\n",
            "\u001b[?25hCollecting traitlets==5.14.3 (from -r /content/GPT-From-Scratch/requirements.txt (line 87))\n",
            "  Downloading traitlets-5.14.3-py3-none-any.whl (85 kB)\n",
            "\u001b[2K     \u001b[90m━━━━━━━━━━━━━━━━━━━━━━━━━━━━━━━━━━━━━━━━\u001b[0m \u001b[32m85.4/85.4 kB\u001b[0m \u001b[31m14.9 MB/s\u001b[0m eta \u001b[36m0:00:00\u001b[0m\n",
            "\u001b[?25hCollecting typing_extensions==4.10.0 (from -r /content/GPT-From-Scratch/requirements.txt (line 88))\n",
            "  Downloading typing_extensions-4.10.0-py3-none-any.whl (33 kB)\n",
            "Requirement already satisfied: tzdata==2024.1 in /usr/local/lib/python3.10/dist-packages (from -r /content/GPT-From-Scratch/requirements.txt (line 89)) (2024.1)\n",
            "Collecting ujson==5.9.0 (from -r /content/GPT-From-Scratch/requirements.txt (line 90))\n",
            "  Downloading ujson-5.9.0-cp310-cp310-manylinux_2_17_x86_64.manylinux2014_x86_64.whl (53 kB)\n",
            "\u001b[2K     \u001b[90m━━━━━━━━━━━━━━━━━━━━━━━━━━━━━━━━━━━━━━━━\u001b[0m \u001b[32m53.2/53.2 kB\u001b[0m \u001b[31m8.7 MB/s\u001b[0m eta \u001b[36m0:00:00\u001b[0m\n",
            "\u001b[?25hCollecting urllib3==2.2.1 (from -r /content/GPT-From-Scratch/requirements.txt (line 91))\n",
            "  Downloading urllib3-2.2.1-py3-none-any.whl (121 kB)\n",
            "\u001b[2K     \u001b[90m━━━━━━━━━━━━━━━━━━━━━━━━━━━━━━━━━━━━━━━━\u001b[0m \u001b[32m121.1/121.1 kB\u001b[0m \u001b[31m19.1 MB/s\u001b[0m eta \u001b[36m0:00:00\u001b[0m\n",
            "\u001b[?25hCollecting uvicorn==0.29.0 (from -r /content/GPT-From-Scratch/requirements.txt (line 92))\n",
            "  Downloading uvicorn-0.29.0-py3-none-any.whl (60 kB)\n",
            "\u001b[2K     \u001b[90m━━━━━━━━━━━━━━━━━━━━━━━━━━━━━━━━━━━━━━━━\u001b[0m \u001b[32m60.8/60.8 kB\u001b[0m \u001b[31m9.5 MB/s\u001b[0m eta \u001b[36m0:00:00\u001b[0m\n",
            "\u001b[?25hCollecting watchdog==4.0.0 (from -r /content/GPT-From-Scratch/requirements.txt (line 93))\n",
            "  Downloading watchdog-4.0.0-py3-none-manylinux2014_x86_64.whl (82 kB)\n",
            "\u001b[2K     \u001b[90m━━━━━━━━━━━━━━━━━━━━━━━━━━━━━━━━━━━━━━━━\u001b[0m \u001b[32m83.0/83.0 kB\u001b[0m \u001b[31m12.7 MB/s\u001b[0m eta \u001b[36m0:00:00\u001b[0m\n",
            "\u001b[?25hCollecting watchfiles==0.21.0 (from -r /content/GPT-From-Scratch/requirements.txt (line 94))\n",
            "  Downloading watchfiles-0.21.0-cp310-cp310-manylinux_2_17_x86_64.manylinux2014_x86_64.whl (1.3 MB)\n",
            "\u001b[2K     \u001b[90m━━━━━━━━━━━━━━━━━━━━━━━━━━━━━━━━━━━━━━━━\u001b[0m \u001b[32m1.3/1.3 MB\u001b[0m \u001b[31m85.3 MB/s\u001b[0m eta \u001b[36m0:00:00\u001b[0m\n",
            "\u001b[?25hRequirement already satisfied: wcwidth==0.2.13 in /usr/local/lib/python3.10/dist-packages (from -r /content/GPT-From-Scratch/requirements.txt (line 95)) (0.2.13)\n",
            "Collecting websockets==12.0 (from -r /content/GPT-From-Scratch/requirements.txt (line 96))\n",
            "  Downloading websockets-12.0-cp310-cp310-manylinux_2_5_x86_64.manylinux1_x86_64.manylinux_2_17_x86_64.manylinux2014_x86_64.whl (130 kB)\n",
            "\u001b[2K     \u001b[90m━━━━━━━━━━━━━━━━━━━━━━━━━━━━━━━━━━━━━━━━\u001b[0m \u001b[32m130.2/130.2 kB\u001b[0m \u001b[31m20.9 MB/s\u001b[0m eta \u001b[36m0:00:00\u001b[0m\n",
            "\u001b[?25hRequirement already satisfied: exceptiongroup>=1.0.2 in /usr/local/lib/python3.10/dist-packages (from anyio==4.3.0->-r /content/GPT-From-Scratch/requirements.txt (line 3)) (1.2.1)\n",
            "Requirement already satisfied: pexpect>4.3 in /usr/local/lib/python3.10/dist-packages (from ipython==8.24.0->-r /content/GPT-From-Scratch/requirements.txt (line 29)) (4.9.0)\n",
            "Collecting nvidia-cuda-nvrtc-cu12==12.1.105 (from torch==2.2.1->-r /content/GPT-From-Scratch/requirements.txt (line 84))\n",
            "  Using cached nvidia_cuda_nvrtc_cu12-12.1.105-py3-none-manylinux1_x86_64.whl (23.7 MB)\n",
            "Collecting nvidia-cuda-runtime-cu12==12.1.105 (from torch==2.2.1->-r /content/GPT-From-Scratch/requirements.txt (line 84))\n",
            "  Using cached nvidia_cuda_runtime_cu12-12.1.105-py3-none-manylinux1_x86_64.whl (823 kB)\n",
            "Collecting nvidia-cuda-cupti-cu12==12.1.105 (from torch==2.2.1->-r /content/GPT-From-Scratch/requirements.txt (line 84))\n",
            "  Using cached nvidia_cuda_cupti_cu12-12.1.105-py3-none-manylinux1_x86_64.whl (14.1 MB)\n",
            "Collecting nvidia-cudnn-cu12==8.9.2.26 (from torch==2.2.1->-r /content/GPT-From-Scratch/requirements.txt (line 84))\n",
            "  Using cached nvidia_cudnn_cu12-8.9.2.26-py3-none-manylinux1_x86_64.whl (731.7 MB)\n",
            "Collecting nvidia-cublas-cu12==12.1.3.1 (from torch==2.2.1->-r /content/GPT-From-Scratch/requirements.txt (line 84))\n",
            "  Using cached nvidia_cublas_cu12-12.1.3.1-py3-none-manylinux1_x86_64.whl (410.6 MB)\n",
            "Collecting nvidia-cufft-cu12==11.0.2.54 (from torch==2.2.1->-r /content/GPT-From-Scratch/requirements.txt (line 84))\n",
            "  Using cached nvidia_cufft_cu12-11.0.2.54-py3-none-manylinux1_x86_64.whl (121.6 MB)\n",
            "Collecting nvidia-curand-cu12==10.3.2.106 (from torch==2.2.1->-r /content/GPT-From-Scratch/requirements.txt (line 84))\n",
            "  Using cached nvidia_curand_cu12-10.3.2.106-py3-none-manylinux1_x86_64.whl (56.5 MB)\n",
            "Collecting nvidia-cusolver-cu12==11.4.5.107 (from torch==2.2.1->-r /content/GPT-From-Scratch/requirements.txt (line 84))\n",
            "  Using cached nvidia_cusolver_cu12-11.4.5.107-py3-none-manylinux1_x86_64.whl (124.2 MB)\n",
            "Collecting nvidia-cusparse-cu12==12.1.0.106 (from torch==2.2.1->-r /content/GPT-From-Scratch/requirements.txt (line 84))\n",
            "  Using cached nvidia_cusparse_cu12-12.1.0.106-py3-none-manylinux1_x86_64.whl (196.0 MB)\n",
            "Collecting nvidia-nccl-cu12==2.19.3 (from torch==2.2.1->-r /content/GPT-From-Scratch/requirements.txt (line 84))\n",
            "  Using cached nvidia_nccl_cu12-2.19.3-py3-none-manylinux1_x86_64.whl (166.0 MB)\n",
            "Collecting nvidia-nvtx-cu12==12.1.105 (from torch==2.2.1->-r /content/GPT-From-Scratch/requirements.txt (line 84))\n",
            "  Using cached nvidia_nvtx_cu12-12.1.105-py3-none-manylinux1_x86_64.whl (99 kB)\n",
            "Requirement already satisfied: triton==2.2.0 in /usr/local/lib/python3.10/dist-packages (from torch==2.2.1->-r /content/GPT-From-Scratch/requirements.txt (line 84)) (2.2.0)\n",
            "Collecting nvidia-nvjitlink-cu12 (from nvidia-cusolver-cu12==11.4.5.107->torch==2.2.1->-r /content/GPT-From-Scratch/requirements.txt (line 84))\n",
            "  Using cached nvidia_nvjitlink_cu12-12.4.127-py3-none-manylinux2014_x86_64.whl (21.1 MB)\n",
            "Requirement already satisfied: ptyprocess>=0.5 in /usr/local/lib/python3.10/dist-packages (from pexpect>4.3->ipython==8.24.0->-r /content/GPT-From-Scratch/requirements.txt (line 29)) (0.7.0)\n",
            "Installing collected packages: pytz, pure-eval, websockets, watchdog, urllib3, ujson, typing_extensions, traitlets, tqdm, tornado, tenacity, smmap, rpds-py, regex, pyzmq, python-multipart, python-dotenv, python-dateutil, Pygments, psutil, protobuf, pillow, packaging, orjson, nvidia-nvtx-cu12, nvidia-nvjitlink-cu12, nvidia-nccl-cu12, nvidia-curand-cu12, nvidia-cufft-cu12, nvidia-cuda-runtime-cu12, nvidia-cuda-nvrtc-cu12, nvidia-cuda-cupti-cu12, nvidia-cublas-cu12, numpy, networkx, joblib, Jinja2, jedi, idna, httptools, h11, fsspec, filelock, executing, dnspython, decorator, debugpy, colorama, blinker, asttokens, uvicorn, stack-data, referencing, pydeck, pyarrow, pandas, nvidia-cusparse-cu12, nvidia-cudnn-cu12, httpcore, gitdb, email_validator, comm, anyio, watchfiles, starlette, nvidia-cusolver-cu12, jupyter_client, ipython, httpx, GitPython, pydantic-settings, pydantic-extra-types, jsonschema, ipykernel, fastapi, altair, streamlit\n",
            "  Attempting uninstall: pytz\n",
            "    Found existing installation: pytz 2023.4\n",
            "    Uninstalling pytz-2023.4:\n",
            "      Successfully uninstalled pytz-2023.4\n",
            "  Attempting uninstall: urllib3\n",
            "    Found existing installation: urllib3 2.0.7\n",
            "    Uninstalling urllib3-2.0.7:\n",
            "      Successfully uninstalled urllib3-2.0.7\n",
            "  Attempting uninstall: typing_extensions\n",
            "    Found existing installation: typing_extensions 4.11.0\n",
            "    Uninstalling typing_extensions-4.11.0:\n",
            "      Successfully uninstalled typing_extensions-4.11.0\n",
            "  Attempting uninstall: traitlets\n",
            "    Found existing installation: traitlets 5.7.1\n",
            "    Uninstalling traitlets-5.7.1:\n",
            "      Successfully uninstalled traitlets-5.7.1\n",
            "  Attempting uninstall: tqdm\n",
            "    Found existing installation: tqdm 4.66.4\n",
            "    Uninstalling tqdm-4.66.4:\n",
            "      Successfully uninstalled tqdm-4.66.4\n",
            "  Attempting uninstall: tornado\n",
            "    Found existing installation: tornado 6.3.3\n",
            "    Uninstalling tornado-6.3.3:\n",
            "      Successfully uninstalled tornado-6.3.3\n",
            "  Attempting uninstall: tenacity\n",
            "    Found existing installation: tenacity 8.3.0\n",
            "    Uninstalling tenacity-8.3.0:\n",
            "      Successfully uninstalled tenacity-8.3.0\n",
            "  Attempting uninstall: rpds-py\n",
            "    Found existing installation: rpds-py 0.18.1\n",
            "    Uninstalling rpds-py-0.18.1:\n",
            "      Successfully uninstalled rpds-py-0.18.1\n",
            "  Attempting uninstall: regex\n",
            "    Found existing installation: regex 2023.12.25\n",
            "    Uninstalling regex-2023.12.25:\n",
            "      Successfully uninstalled regex-2023.12.25\n",
            "  Attempting uninstall: pyzmq\n",
            "    Found existing installation: pyzmq 24.0.1\n",
            "    Uninstalling pyzmq-24.0.1:\n",
            "      Successfully uninstalled pyzmq-24.0.1\n",
            "  Attempting uninstall: python-dateutil\n",
            "    Found existing installation: python-dateutil 2.8.2\n",
            "    Uninstalling python-dateutil-2.8.2:\n",
            "      Successfully uninstalled python-dateutil-2.8.2\n",
            "  Attempting uninstall: Pygments\n",
            "    Found existing installation: Pygments 2.16.1\n",
            "    Uninstalling Pygments-2.16.1:\n",
            "      Successfully uninstalled Pygments-2.16.1\n",
            "  Attempting uninstall: psutil\n",
            "    Found existing installation: psutil 5.9.5\n",
            "    Uninstalling psutil-5.9.5:\n",
            "      Successfully uninstalled psutil-5.9.5\n",
            "  Attempting uninstall: protobuf\n",
            "    Found existing installation: protobuf 3.20.3\n",
            "    Uninstalling protobuf-3.20.3:\n",
            "      Successfully uninstalled protobuf-3.20.3\n",
            "  Attempting uninstall: pillow\n",
            "    Found existing installation: Pillow 9.4.0\n",
            "    Uninstalling Pillow-9.4.0:\n",
            "      Successfully uninstalled Pillow-9.4.0\n",
            "  Attempting uninstall: packaging\n",
            "    Found existing installation: packaging 24.0\n",
            "    Uninstalling packaging-24.0:\n",
            "      Successfully uninstalled packaging-24.0\n",
            "  Attempting uninstall: numpy\n",
            "    Found existing installation: numpy 1.25.2\n",
            "    Uninstalling numpy-1.25.2:\n",
            "      Successfully uninstalled numpy-1.25.2\n",
            "  Attempting uninstall: networkx\n",
            "    Found existing installation: networkx 3.3\n",
            "    Uninstalling networkx-3.3:\n",
            "      Successfully uninstalled networkx-3.3\n",
            "  Attempting uninstall: joblib\n",
            "    Found existing installation: joblib 1.4.2\n",
            "    Uninstalling joblib-1.4.2:\n",
            "      Successfully uninstalled joblib-1.4.2\n",
            "  Attempting uninstall: Jinja2\n",
            "    Found existing installation: Jinja2 3.1.4\n",
            "    Uninstalling Jinja2-3.1.4:\n",
            "      Successfully uninstalled Jinja2-3.1.4\n",
            "  Attempting uninstall: idna\n",
            "    Found existing installation: idna 3.7\n",
            "    Uninstalling idna-3.7:\n",
            "      Successfully uninstalled idna-3.7\n",
            "  Attempting uninstall: fsspec\n",
            "    Found existing installation: fsspec 2023.6.0\n",
            "    Uninstalling fsspec-2023.6.0:\n",
            "      Successfully uninstalled fsspec-2023.6.0\n",
            "  Attempting uninstall: filelock\n",
            "    Found existing installation: filelock 3.14.0\n",
            "    Uninstalling filelock-3.14.0:\n",
            "      Successfully uninstalled filelock-3.14.0\n",
            "  Attempting uninstall: decorator\n",
            "    Found existing installation: decorator 4.4.2\n",
            "    Uninstalling decorator-4.4.2:\n",
            "      Successfully uninstalled decorator-4.4.2\n",
            "  Attempting uninstall: debugpy\n",
            "    Found existing installation: debugpy 1.6.6\n",
            "    Uninstalling debugpy-1.6.6:\n",
            "      Successfully uninstalled debugpy-1.6.6\n",
            "  Attempting uninstall: blinker\n",
            "    Found existing installation: blinker 1.4\n",
            "\u001b[31mERROR: Cannot uninstall 'blinker'. It is a distutils installed project and thus we cannot accurately determine which files belong to it which would lead to only a partial uninstall.\u001b[0m\u001b[31m\n",
            "\u001b[0m"
          ]
        }
      ],
      "source": [
        "!pip install -r \"/content/GPT-From-Scratch/requirements.txt\""
      ]
    },
    {
      "cell_type": "code",
      "execution_count": 8,
      "metadata": {
        "colab": {
          "base_uri": "https://localhost:8080/"
        },
        "id": "TnVrS4CVvyVW",
        "outputId": "ae2e2e14-e092-4f99-8a15-5eedf43fa907"
      },
      "outputs": [
        {
          "name": "stdout",
          "output_type": "stream",
          "text": [
            "Loading tokenizer...\n",
            "Loaded tokenizer from file /content/GPT-From-Scratch/config/shakespearean_config.json\n",
            "Loading hyperparameters...\n",
            "\n",
            "Loaded model on device `cuda`\n",
            "\n",
            "Hyperparameters:\n",
            "    batch_size: 32\n",
            "    block_size: 256\n",
            "    max_iters: 3000\n",
            "    eval_interval: 300\n",
            "    learning_rate: 3e-05\n",
            "    eval_iters: 50\n",
            "    n_embd: 384\n",
            "    n_head: 6\n",
            "    n_layer: 6\n",
            "    dropout: 0.3\n",
            "    vocab_size: 65\n",
            "\n",
            "\n",
            "Loading model...\n",
            "\n",
            "Model is of  10.788929 M parameters\n",
            "Generating text...\n",
            "\n",
            "Prompt: \u001b[32m Write a scene about ROMEO arguing with JULIET.\n",
            "ROMEO: \u001b[34m\n",
            "Thou unstand the way noting of wombs, but thou shoath\n",
            "A fool and great Anne ward Deaths,\n",
            "As thout rechised that restrainted to the king\n",
            "The thought of the valour's charge in to\n",
            "And pat-pard with and stockies with speech: but I have be\n",
            "Thy mercy at guestering in thee\n",
            "Than is shed by this.\n",
            "\n",
            "BRUTUS:\n",
            "Alt, the auntle very exocessions lost.\n",
            "\n",
            "MENENIUS:\n",
            "They will go have you boy, the mortall's in your house,\n",
            "Afterhead him and heard you dishonour.\n",
            "\n",
            "Both Sot:\n",
            "Ay, sir, thou be anothy sin man's skuller.\n",
            "\n",
            "B\u001b[39m \n",
            "\n",
            "\n",
            "Inference completed.\n"
          ]
        }
      ],
      "source": [
        "!python /content/GPT-From-Scratch/scripts/inference_gpt.py"
      ]
    },
    {
      "cell_type": "code",
      "execution_count": 11,
      "metadata": {
        "colab": {
          "base_uri": "https://localhost:8080/"
        },
        "id": "v02B_ADi5iIS",
        "outputId": "a23a93d4-281b-4e88-d61f-d0884bfecff6"
      },
      "outputs": [
        {
          "name": "stdout",
          "output_type": "stream",
          "text": [
            "First Citizen:\n",
            "Before we proceed any further, hear me speak.\n",
            "\n",
            "All:\n",
            "Speak, speak.\n"
          ]
        }
      ],
      "source": [
        "!head -n 5 /content/GPT-From-Scratch/data/input.txt"
      ]
    },
    {
      "cell_type": "code",
      "execution_count": 15,
      "metadata": {
        "colab": {
          "base_uri": "https://localhost:8080/",
          "height": 1000
        },
        "id": "vydpEubmw-SC",
        "outputId": "ae5a0f63-b11b-4c00-95a8-7abe70510817"
      },
      "outputs": [
        {
          "name": "stdout",
          "output_type": "stream",
          "text": [
            "\n",
            "Loading data...\n",
            "Data loaded from `/content/GPT-From-Scratch/data/input.txt`. Vocab size: 65.\n",
            "\n",
            "Loading model...\n",
            "\n",
            "Loaded model on device `cuda`\n",
            "\n",
            "Hyperparameters:\n",
            "    batch_size: 32\n",
            "    block_size: 256\n",
            "    max_iters: 3000\n",
            "    eval_interval: 300\n",
            "    learning_rate: 3e-05\n",
            "    eval_iters: 50\n",
            "    n_embd: 384\n",
            "    n_head: 6\n",
            "    n_layer: 6\n",
            "    dropout: 0.3\n",
            "    vocab_size: 65\n",
            "\n",
            "\n",
            "Model is of  10.788929 M parameters\n",
            "\n",
            "Starting training...\n"
          ]
        },
        {
          "name": "stderr",
          "output_type": "stream",
          "text": [
            " 10%|█         | 301/3000 [01:18<1:59:53,  2.67s/it]"
          ]
        },
        {
          "name": "stdout",
          "output_type": "stream",
          "text": [
            "step 300: train loss 1.1643, val loss                     1.4855\n"
          ]
        },
        {
          "name": "stderr",
          "output_type": "stream",
          "text": [
            " 20%|██        | 601/3000 [02:38<1:46:38,  2.67s/it]"
          ]
        },
        {
          "name": "stdout",
          "output_type": "stream",
          "text": [
            "step 600: train loss 1.1674, val loss                     1.4838\n"
          ]
        },
        {
          "name": "stderr",
          "output_type": "stream",
          "text": [
            " 30%|███       | 901/3000 [03:57<1:33:09,  2.66s/it]"
          ]
        },
        {
          "name": "stdout",
          "output_type": "stream",
          "text": [
            "step 900: train loss 1.1581, val loss                     1.4791\n"
          ]
        },
        {
          "name": "stderr",
          "output_type": "stream",
          "text": [
            " 40%|████      | 1201/3000 [05:16<1:19:46,  2.66s/it]"
          ]
        },
        {
          "name": "stdout",
          "output_type": "stream",
          "text": [
            "step 1200: train loss 1.1547, val loss                     1.4859\n"
          ]
        },
        {
          "name": "stderr",
          "output_type": "stream",
          "text": [
            " 50%|█████     | 1501/3000 [06:35<1:06:34,  2.66s/it]"
          ]
        },
        {
          "name": "stdout",
          "output_type": "stream",
          "text": [
            "step 1500: train loss 1.1508, val loss                     1.4907\n"
          ]
        },
        {
          "name": "stderr",
          "output_type": "stream",
          "text": [
            " 60%|██████    | 1801/3000 [07:54<53:08,  2.66s/it]"
          ]
        },
        {
          "name": "stdout",
          "output_type": "stream",
          "text": [
            "step 1800: train loss 1.1497, val loss                     1.4879\n"
          ]
        },
        {
          "name": "stderr",
          "output_type": "stream",
          "text": [
            " 70%|███████   | 2101/3000 [09:14<39:53,  2.66s/it]"
          ]
        },
        {
          "name": "stdout",
          "output_type": "stream",
          "text": [
            "step 2100: train loss 1.1455, val loss                     1.4855\n"
          ]
        },
        {
          "name": "stderr",
          "output_type": "stream",
          "text": [
            " 80%|████████  | 2401/3000 [10:33<26:36,  2.66s/it]"
          ]
        },
        {
          "name": "stdout",
          "output_type": "stream",
          "text": [
            "step 2400: train loss 1.1429, val loss                     1.4826\n"
          ]
        },
        {
          "name": "stderr",
          "output_type": "stream",
          "text": [
            " 90%|█████████ | 2701/3000 [11:52<13:15,  2.66s/it]"
          ]
        },
        {
          "name": "stdout",
          "output_type": "stream",
          "text": [
            "step 2700: train loss 1.1284, val loss                     1.4769\n"
          ]
        },
        {
          "name": "stderr",
          "output_type": "stream",
          "text": [
            "100%|██████████| 3000/3000 [13:11<00:00,  3.79it/s]"
          ]
        },
        {
          "name": "stdout",
          "output_type": "stream",
          "text": [
            "step 2999: train loss 1.1319, val loss                     1.5023\n",
            "\n",
            "Training complete.\n",
            "\n",
            "Generating text...\n"
          ]
        },
        {
          "name": "stderr",
          "output_type": "stream",
          "text": [
            "\n"
          ]
        },
        {
          "name": "stdout",
          "output_type": "stream",
          "text": [
            "\n",
            "KING RICH"
          ]
        },
        {
          "ename": "RuntimeError",
          "evalue": "Parent directory /trained_model does not exist.",
          "output_type": "error",
          "traceback": [
            "\u001b[0;31m---------------------------------------------------------------------------\u001b[0m",
            "\u001b[0;31mRuntimeError\u001b[0m                              Traceback (most recent call last)",
            "\u001b[0;32m<ipython-input-15-9eb34e7f6922>\u001b[0m in \u001b[0;36m<cell line: 119>\u001b[0;34m()\u001b[0m\n\u001b[1;32m    117\u001b[0m \u001b[0;34m\u001b[0m\u001b[0m\n\u001b[1;32m    118\u001b[0m \u001b[0msave_model_path\u001b[0m \u001b[0;34m=\u001b[0m \u001b[0mos\u001b[0m\u001b[0;34m.\u001b[0m\u001b[0mpath\u001b[0m\u001b[0;34m.\u001b[0m\u001b[0mjoin\u001b[0m\u001b[0;34m(\u001b[0m\u001b[0mparent_dir\u001b[0m\u001b[0;34m,\u001b[0m \u001b[0msave_path\u001b[0m\u001b[0;34m,\u001b[0m \u001b[0mname\u001b[0m \u001b[0;34m+\u001b[0m \u001b[0;34m\".pt\"\u001b[0m\u001b[0;34m)\u001b[0m\u001b[0;34m\u001b[0m\u001b[0;34m\u001b[0m\u001b[0m\n\u001b[0;32m--> 119\u001b[0;31m \u001b[0mtorch\u001b[0m\u001b[0;34m.\u001b[0m\u001b[0msave\u001b[0m\u001b[0;34m(\u001b[0m\u001b[0mmodel\u001b[0m\u001b[0;34m.\u001b[0m\u001b[0mstate_dict\u001b[0m\u001b[0;34m(\u001b[0m\u001b[0;34m)\u001b[0m\u001b[0;34m,\u001b[0m \u001b[0msave_model_path\u001b[0m\u001b[0;34m)\u001b[0m\u001b[0;34m\u001b[0m\u001b[0;34m\u001b[0m\u001b[0m\n\u001b[0m\u001b[1;32m    120\u001b[0m \u001b[0;34m\u001b[0m\u001b[0m\n\u001b[1;32m    121\u001b[0m \u001b[0mconfig\u001b[0m\u001b[0;34m[\u001b[0m\u001b[0;34m'vocab_size'\u001b[0m\u001b[0;34m]\u001b[0m \u001b[0;34m=\u001b[0m \u001b[0mtokenizer\u001b[0m\u001b[0;34m.\u001b[0m\u001b[0mvocab_size\u001b[0m\u001b[0;34m\u001b[0m\u001b[0;34m\u001b[0m\u001b[0m\n",
            "\u001b[0;32m/usr/local/lib/python3.10/dist-packages/torch/serialization.py\u001b[0m in \u001b[0;36msave\u001b[0;34m(obj, f, pickle_module, pickle_protocol, _use_new_zipfile_serialization, _disable_byteorder_record)\u001b[0m\n\u001b[1;32m    626\u001b[0m \u001b[0;34m\u001b[0m\u001b[0m\n\u001b[1;32m    627\u001b[0m     \u001b[0;32mif\u001b[0m \u001b[0m_use_new_zipfile_serialization\u001b[0m\u001b[0;34m:\u001b[0m\u001b[0;34m\u001b[0m\u001b[0;34m\u001b[0m\u001b[0m\n\u001b[0;32m--> 628\u001b[0;31m         \u001b[0;32mwith\u001b[0m \u001b[0m_open_zipfile_writer\u001b[0m\u001b[0;34m(\u001b[0m\u001b[0mf\u001b[0m\u001b[0;34m)\u001b[0m \u001b[0;32mas\u001b[0m \u001b[0mopened_zipfile\u001b[0m\u001b[0;34m:\u001b[0m\u001b[0;34m\u001b[0m\u001b[0;34m\u001b[0m\u001b[0m\n\u001b[0m\u001b[1;32m    629\u001b[0m             \u001b[0m_save\u001b[0m\u001b[0;34m(\u001b[0m\u001b[0mobj\u001b[0m\u001b[0;34m,\u001b[0m \u001b[0mopened_zipfile\u001b[0m\u001b[0;34m,\u001b[0m \u001b[0mpickle_module\u001b[0m\u001b[0;34m,\u001b[0m \u001b[0mpickle_protocol\u001b[0m\u001b[0;34m,\u001b[0m \u001b[0m_disable_byteorder_record\u001b[0m\u001b[0;34m)\u001b[0m\u001b[0;34m\u001b[0m\u001b[0;34m\u001b[0m\u001b[0m\n\u001b[1;32m    630\u001b[0m             \u001b[0;32mreturn\u001b[0m\u001b[0;34m\u001b[0m\u001b[0;34m\u001b[0m\u001b[0m\n",
            "\u001b[0;32m/usr/local/lib/python3.10/dist-packages/torch/serialization.py\u001b[0m in \u001b[0;36m_open_zipfile_writer\u001b[0;34m(name_or_buffer)\u001b[0m\n\u001b[1;32m    500\u001b[0m     \u001b[0;32melse\u001b[0m\u001b[0;34m:\u001b[0m\u001b[0;34m\u001b[0m\u001b[0;34m\u001b[0m\u001b[0m\n\u001b[1;32m    501\u001b[0m         \u001b[0mcontainer\u001b[0m \u001b[0;34m=\u001b[0m \u001b[0m_open_zipfile_writer_buffer\u001b[0m\u001b[0;34m\u001b[0m\u001b[0;34m\u001b[0m\u001b[0m\n\u001b[0;32m--> 502\u001b[0;31m     \u001b[0;32mreturn\u001b[0m \u001b[0mcontainer\u001b[0m\u001b[0;34m(\u001b[0m\u001b[0mname_or_buffer\u001b[0m\u001b[0;34m)\u001b[0m\u001b[0;34m\u001b[0m\u001b[0;34m\u001b[0m\u001b[0m\n\u001b[0m\u001b[1;32m    503\u001b[0m \u001b[0;34m\u001b[0m\u001b[0m\n\u001b[1;32m    504\u001b[0m \u001b[0;34m\u001b[0m\u001b[0m\n",
            "\u001b[0;32m/usr/local/lib/python3.10/dist-packages/torch/serialization.py\u001b[0m in \u001b[0;36m__init__\u001b[0;34m(self, name)\u001b[0m\n\u001b[1;32m    471\u001b[0m             \u001b[0msuper\u001b[0m\u001b[0;34m(\u001b[0m\u001b[0;34m)\u001b[0m\u001b[0;34m.\u001b[0m\u001b[0m__init__\u001b[0m\u001b[0;34m(\u001b[0m\u001b[0mtorch\u001b[0m\u001b[0;34m.\u001b[0m\u001b[0m_C\u001b[0m\u001b[0;34m.\u001b[0m\u001b[0mPyTorchFileWriter\u001b[0m\u001b[0;34m(\u001b[0m\u001b[0mself\u001b[0m\u001b[0;34m.\u001b[0m\u001b[0mfile_stream\u001b[0m\u001b[0;34m)\u001b[0m\u001b[0;34m)\u001b[0m\u001b[0;34m\u001b[0m\u001b[0;34m\u001b[0m\u001b[0m\n\u001b[1;32m    472\u001b[0m         \u001b[0;32melse\u001b[0m\u001b[0;34m:\u001b[0m\u001b[0;34m\u001b[0m\u001b[0;34m\u001b[0m\u001b[0m\n\u001b[0;32m--> 473\u001b[0;31m             \u001b[0msuper\u001b[0m\u001b[0;34m(\u001b[0m\u001b[0;34m)\u001b[0m\u001b[0;34m.\u001b[0m\u001b[0m__init__\u001b[0m\u001b[0;34m(\u001b[0m\u001b[0mtorch\u001b[0m\u001b[0;34m.\u001b[0m\u001b[0m_C\u001b[0m\u001b[0;34m.\u001b[0m\u001b[0mPyTorchFileWriter\u001b[0m\u001b[0;34m(\u001b[0m\u001b[0mself\u001b[0m\u001b[0;34m.\u001b[0m\u001b[0mname\u001b[0m\u001b[0;34m)\u001b[0m\u001b[0;34m)\u001b[0m\u001b[0;34m\u001b[0m\u001b[0;34m\u001b[0m\u001b[0m\n\u001b[0m\u001b[1;32m    474\u001b[0m \u001b[0;34m\u001b[0m\u001b[0m\n\u001b[1;32m    475\u001b[0m     \u001b[0;32mdef\u001b[0m \u001b[0m__exit__\u001b[0m\u001b[0;34m(\u001b[0m\u001b[0mself\u001b[0m\u001b[0;34m,\u001b[0m \u001b[0;34m*\u001b[0m\u001b[0margs\u001b[0m\u001b[0;34m)\u001b[0m \u001b[0;34m->\u001b[0m \u001b[0;32mNone\u001b[0m\u001b[0;34m:\u001b[0m\u001b[0;34m\u001b[0m\u001b[0;34m\u001b[0m\u001b[0m\n",
            "\u001b[0;31mRuntimeError\u001b[0m: Parent directory /trained_model does not exist."
          ]
        }
      ],
      "source": [
        "import json\n",
        "import os\n",
        "import sys\n",
        "import torch\n",
        "import tqdm\n",
        "import argparse\n",
        "\n",
        "current_dir = os.path.dirname(os.path.abspath(\"/content/\"))\n",
        "parent_dir = os.path.dirname(current_dir)\n",
        "\n",
        "import core.utils.gptutils as gptutils\n",
        "from core.models.gpt import GPTLanguageModel\n",
        "from core.tokenizers.tokenizer import Tokenizer\n",
        "\n",
        "# args = argparse.ArgumentParser()\n",
        "\n",
        "# args.add_argument('--config_path', type=str, default='config/config.json',\n",
        "#                     help='Path to the config file')\n",
        "\n",
        "# args.add_argument('--data_path', type=str, default='data/corpus.txt',\n",
        "#                     help='Path to the data file')\n",
        "\n",
        "# args.add_argument('--name', type=str, default='GPT',\n",
        "#                     help='Name of the model')\n",
        "\n",
        "# args.add_argument('--output_dir', type=str, default='trained_models',\n",
        "#                     help='Path to save the model')\n",
        "\n",
        "# args = args.parse_args()\n",
        "\n",
        "# config_path = args.config_path\n",
        "# data_path = args.data_path\n",
        "# name = args.name\n",
        "# save_path = args.output_dir\n",
        "\n",
        "config_path = \"/content/GPT-From-Scratch/config/shakespearean_config.json\"\n",
        "data_path = \"/content/GPT-From-Scratch/data/input.txt\"\n",
        "name = \"GPT\"\n",
        "save_path = \"trained_models/\"\n",
        "\n",
        "tokenizer = Tokenizer(data_path=data_path)\n",
        "with open(config_path) as f:\n",
        "    config = json.load(f)\n",
        "\n",
        "print(\"\\nLoading data...\")\n",
        "train_data, val_data, vocab_size, encode, decode = tokenizer.train_data, tokenizer.val_data, tokenizer.vocab_size, tokenizer.encode, tokenizer.decode\n",
        "print(f\"Data loaded from `{data_path}`. Vocab size: {tokenizer.vocab_size}.\")\n",
        "\n",
        "(batch_size, block_size, max_iters, eval_interval, learning_rate, device,\n",
        "    eval_iters, n_embd, n_head, n_layer, dropout) = gptutils.hyperparameters(config_path=config_path)\n",
        "\n",
        "\n",
        "print(\"\\nLoading model...\")\n",
        "model = GPTLanguageModel(vocab_size, n_embd, block_size, n_head, n_layer, dropout, device, name)\n",
        "model = model.to(device)\n",
        "state_dict = torch.load(\n",
        "    \"/content/GPT-From-Scratch/weights/GPT_model_char.pt\",\n",
        "    map_location=device)\n",
        "model.load_state_dict(state_dict)\n",
        "print(\"\\nLoaded model on device `{}`\".format(device))\n",
        "print(\"\"\"\\nHyperparameters:\n",
        "    batch_size: {}\n",
        "    block_size: {}\n",
        "    max_iters: {}\n",
        "    eval_interval: {}\n",
        "    learning_rate: {}\n",
        "    eval_iters: {}\n",
        "    n_embd: {}\n",
        "    n_head: {}\n",
        "    n_layer: {}\n",
        "    dropout: {}\n",
        "    vocab_size: {}\n",
        "\"\"\".format(batch_size, block_size, max_iters, eval_interval, learning_rate,\n",
        "           eval_iters, n_embd, n_head, n_layer, dropout, vocab_size))\n",
        "print(\"\\nModel is of \", sum(p.numel()\n",
        "      for p in model.parameters())/1e6, 'M parameters')\n",
        "\n",
        "optimizer = torch.optim.AdamW(model.parameters(), lr=learning_rate)\n",
        "\n",
        "print(\"\\nStarting training...\")\n",
        "history = {}\n",
        "history['train'] = []\n",
        "history['val'] = []\n",
        "for iter in tqdm.tqdm(range(max_iters)):\n",
        "    if not iter == 0:\n",
        "        if iter % eval_interval == 0 or iter == max_iters - 1:\n",
        "            losses = gptutils.estimate_loss(model, gptutils.get_batch, eval_iters, tokenizer.train_data, tokenizer.val_data, device, block_size, batch_size)\n",
        "            history['train'].append(losses['train'])\n",
        "            history['val'].append(losses['val'])\n",
        "            print(\n",
        "                f\"step {iter}: train loss {losses['train']:.4f}, val loss \\\n",
        "                    {losses['val']:.4f}\")\n",
        "\n",
        "    xb, yb = gptutils.get_batch('train', tokenizer.train_data, tokenizer.val_data, device, block_size, batch_size)\n",
        "\n",
        "\n",
        "    logits, loss = model(xb, yb)\n",
        "    optimizer.zero_grad(set_to_none=True)\n",
        "    loss.backward()\n",
        "    optimizer.step()\n",
        "\n",
        "model.history = history\n",
        "print(\"\\nTraining complete.\")\n",
        "\n",
        "\n",
        "def inference(input, model: GPTLanguageModel, max_tokens, temperature):\n",
        "    for idx in model.generate(idx=input, max_new_tokens=max_tokens, max_seq_length=50, temperature=temperature):\n",
        "        text = tokenizer.decode(idx[0].tolist())[-1]\n",
        "        print(text, end='')\n",
        "\n",
        "print(\"\\nGenerating text...\")\n",
        "context = torch.zeros((1, 1), dtype=torch.long, device=device)\n",
        "\n",
        "inference(input=context, model=model, max_tokens=10, temperature=0.1)\n",
        "\n",
        "os.makedirs('./trained_models', exist_ok=True)\n",
        "\n",
        "save_model_path = os.path.join(parent_dir, save_path, name + \".pt\")\n",
        "torch.save(model.state_dict(), save_model_path)\n",
        "\n",
        "config['vocab_size'] = tokenizer.vocab_size\n",
        "config.update({\"encode\": tokenizer.stoi, \"decode\": tokenizer.itos})\n",
        "save_config_path = os.path.join(parent_dir, save_path, 'config.json')\n",
        "with open(save_config_path, 'w') as f:\n",
        "    json.dump(config, f, indent=4)\n",
        "print(f\"\\n\\nSaved model config file at {save_config_path}\")\n",
        "print(\"Saved model to `{}`\".format(save_model_path))"
      ]
    },
    {
      "cell_type": "code",
      "execution_count": 20,
      "metadata": {
        "colab": {
          "base_uri": "https://localhost:8080/"
        },
        "id": "a9QagZcw4-6R",
        "outputId": "b4b0590f-bb24-4598-8b03-4a04eae5607b"
      },
      "outputs": [
        {
          "name": "stdout",
          "output_type": "stream",
          "text": [
            "\n",
            "\n",
            "Saved model config file at /content/GPT-From-Scratch/trained_models/config.json\n",
            "Saved model to `/content/GPT-From-Scratch/trained_models/GPT.pt`\n"
          ]
        }
      ],
      "source": [
        "save_model_path = os.path.join(\"/content/GPT-From-Scratch/trained_models\", name + \".pt\")\n",
        "torch.save(model.state_dict(), save_model_path)\n",
        "\n",
        "config['vocab_size'] = tokenizer.vocab_size\n",
        "config.update({\"encode\": tokenizer.stoi, \"decode\": tokenizer.itos})\n",
        "save_config_path = os.path.join(\"/content/GPT-From-Scratch/trained_models\", 'config.json')\n",
        "with open(save_config_path, 'w') as f:\n",
        "    json.dump(config, f, indent=4)\n",
        "print(f\"\\n\\nSaved model config file at {save_config_path}\")\n",
        "print(\"Saved model to `{}`\".format(save_model_path))"
      ]
    },
    {
      "cell_type": "code",
      "execution_count": 28,
      "metadata": {
        "colab": {
          "base_uri": "https://localhost:8080/"
        },
        "id": "2HA5FrNp-j2_",
        "outputId": "94384ad2-610b-44c5-f505-7be0390c2e57"
      },
      "outputs": [
        {
          "name": "stdout",
          "output_type": "stream",
          "text": [
            "\n",
            "KING RICHARD III:\n",
            "Then we shall be the son of the world.\n",
            "\n",
            "KING HENRY VI:\n",
            "Why, then then the king is not the common of the court,\n",
            "Which the court of the seams of the seas those of the sea,\n",
            "And the seeming the sea of the sea\n",
            "Of the seat of the seat, and the sea of the states,\n",
            "Which we shall be so for the state of the sun\n",
            "As the senate of the sea of the seas,\n",
            "Which the seas of this world and the season\n",
            "That the seas of the sexame of the consent,\n",
            "That we have sent the sentence of the prince\n",
            "To see "
          ]
        }
      ],
      "source": [
        "inference(input=context, model=model, max_tokens=500, temperature=0.00001)"
      ]
    },
    {
      "cell_type": "code",
      "execution_count": 30,
      "metadata": {
        "id": "IB0y6Qp1AO9x"
      },
      "outputs": [],
      "source": [
        "import os\n",
        "import shutil\n",
        "src=\"/content/GPT-From-Scratch/trained_models\"\n",
        "des=\"/content/drive/MyDrive/GPT From Scratch/Shakespearean GPT\"\n",
        "if os.path.exists(des):\n",
        "        shutil.rmtree(des)\n",
        "        shutil.copytree(src, des)"
      ]
    },
    {
      "cell_type": "code",
      "execution_count": 31,
      "metadata": {
        "colab": {
          "base_uri": "https://localhost:8080/"
        },
        "id": "CHdgVKndCTfe",
        "outputId": "ead0ce65-6155-4cac-aa0a-6025aafae98b"
      },
      "outputs": [
        {
          "data": {
            "text/plain": [
              "{'train': [tensor(1.1643),\n",
              "  tensor(1.1674),\n",
              "  tensor(1.1581),\n",
              "  tensor(1.1547),\n",
              "  tensor(1.1508),\n",
              "  tensor(1.1497),\n",
              "  tensor(1.1455),\n",
              "  tensor(1.1429),\n",
              "  tensor(1.1284),\n",
              "  tensor(1.1319)],\n",
              " 'val': [tensor(1.4855),\n",
              "  tensor(1.4838),\n",
              "  tensor(1.4791),\n",
              "  tensor(1.4859),\n",
              "  tensor(1.4907),\n",
              "  tensor(1.4879),\n",
              "  tensor(1.4855),\n",
              "  tensor(1.4826),\n",
              "  tensor(1.4769),\n",
              "  tensor(1.5023)]}"
            ]
          },
          "execution_count": 31,
          "metadata": {},
          "output_type": "execute_result"
        }
      ],
      "source": [
        "model.history"
      ]
    },
    {
      "cell_type": "code",
      "execution_count": 42,
      "metadata": {
        "colab": {
          "base_uri": "https://localhost:8080/",
          "height": 564
        },
        "id": "YI6lay_FCVcR",
        "outputId": "2010a95e-829d-4e46-efb5-71902473e070"
      },
      "outputs": [
        {
          "data": {
            "image/png": "[encoded data removed]",
            "text/plain": [
              "<Figure size 1000x600 with 1 Axes>"
            ]
          },
          "metadata": {},
          "output_type": "display_data"
        }
      ],
      "source": [
        "import matplotlib.pyplot as plt\n",
        "import numpy as np\n",
        "\n",
        "steps = list(np.arange(0, 3000, 300))\n",
        "\n",
        "plt.figure(figsize=(10, 6))\n",
        "plt.plot(steps, model.history['train'], marker='o')\n",
        "plt.plot(steps, model.history['val'], marker='o')\n",
        "plt.legend(['Training Loss', 'Validation Loss'])\n",
        "plt.xlabel('Steps')\n",
        "plt.ylabel('Loss')\n",
        "plt.title(\"Training and Validation Losses\")\n",
        "plt.grid(True)\n",
        "plt.show()"
      ]
    },
    {
      "cell_type": "code",
      "execution_count": null,
      "metadata": {
        "id": "6A4kbl7SD4R9"
      },
      "outputs": [],
      "source": []
    }
  ],
  "metadata": {
    "accelerator": "GPU",
    "colab": {
      "gpuType": "T4",
      "provenance": []
    },
    "kernelspec": {
      "display_name": "Python 3",
      "name": "python3"
    },
    "language_info": {
      "name": "python"
    }
  },
  "nbformat": 4,
  "nbformat_minor": 0
}
